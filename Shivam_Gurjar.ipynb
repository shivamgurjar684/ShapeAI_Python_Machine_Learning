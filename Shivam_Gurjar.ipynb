{
  "nbformat": 4,
  "nbformat_minor": 0,
  "metadata": {
    "colab": {
      "name": "Shivam_Gurjar.ipynb",
      "provenance": []
    },
    "kernelspec": {
      "name": "python3",
      "display_name": "Python 3"
    },
    "language_info": {
      "name": "python"
    }
  },
  "cells": [
    {
      "cell_type": "code",
      "metadata": {
        "id": "HZfHR4UuYN4s"
      },
      "source": [
        "import numpy as np\n",
        "import pandas as pd\n",
        "import sklearn\n",
        "\n",
        "from sklearn.datasets import load_boston\n",
        "df = load_boston()\n",
        "\n",
        "df.keys()\n",
        "\n",
        "boston = pd.DataFrame(df.data, columns=df.feature_names) \n",
        "boston.head()\n",
        "\n",
        "boston['MEDV'] = df.target \n",
        "boston.head()\n",
        "\n",
        "boston.insull()\n",
        "\n",
        "boston.insull().sum()\n",
        "\n",
        "from sklearn.model_selection import train_test_split\n",
        "\n",
        "X = boston.drop('MEDV', Iaxis=1)\n",
        "\n",
        "Y = boston ['MEDV']\n",
        "\n",
        "X_train, X_test, Y_train, Y_test = train_test_split(X, Y, test_size = 0.\n",
        "\n",
        "print(X_train.shape)\n",
        "print (X_test.shape)\n",
        "print (Y_train.shape) \n",
        "print(Y_test.shape)\n",
        "\n",
        "from sklearn.linear_model import LinearRegression\n",
        "from sklearn.metrics import mean_squared_error\n",
        "\n",
        "##FITTING MODEL ON THE TRAINING DATASET\n",
        "\n",
        "lin_model = LenearRegression()\n",
        "lin_model.fit(X_train, Y_train)\n",
        "\n",
        "\n",
        "y_train_predict = lin_model.predict (X_train) \n",
        "rmse = (np.sqrt(mean_squared_error(Y_train, y_train_predict))) \n",
        "print(\"The model performance for training set\") \n",
        "print('RMSE is {}'.format(rmse)) \n",
        "print(\"\\n\")\n",
        "\n",
        "# on testing set\n",
        "y_test_predict = lin_model.predict(X_test)\n",
        "rmse = (np.sqrt(mean_squared_error(Y_test, y_test_predict)))\n",
        "\n",
        "print(\"The model performance for testing set\")\n",
        "print('RMSE is {}'.format(rmse))"
      ],
      "execution_count": null,
      "outputs": []
    }
  ]
}